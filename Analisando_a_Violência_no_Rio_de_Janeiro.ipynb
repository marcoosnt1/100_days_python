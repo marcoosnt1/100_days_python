{
  "nbformat": 4,
  "nbformat_minor": 0,
  "metadata": {
    "colab": {
      "name": "Analisando a Violência no Rio de Janeiro.ipynb",
      "provenance": [],
      "collapsed_sections": [],
      "toc_visible": true,
      "include_colab_link": true
    },
    "kernelspec": {
      "name": "python3",
      "display_name": "Python 3"
    }
  },
  "cells": [
    {
      "cell_type": "markdown",
      "metadata": {
        "id": "view-in-github",
        "colab_type": "text"
      },
      "source": [
        "<a href=\"https://colab.research.google.com/github/marcoosnt1/100_days_python/blob/main/Analisando_a_Viol%C3%AAncia_no_Rio_de_Janeiro.ipynb\" target=\"_parent\"><img src=\"https://colab.research.google.com/assets/colab-badge.svg\" alt=\"Open In Colab\"/></a>"
      ]
    },
    {
      "cell_type": "markdown",
      "metadata": {
        "id": "kLI0gJtzDGuQ"
      },
      "source": [
        "# Analisando a Violência no Rio de Janeiro\n",
        "\n",
        "É uma constante que a violência atinge todo o Brasil, e vem ganhando cada vez mais destaque nos noticiários e midia no geral.\n",
        "\n",
        "Hoje em dia, com as leis de acesso à informação e a conscientização dos órgãos públicos, tem se aumentado cada vez mais as fontes disponiveis com dados.\n",
        "\n",
        "Um exemplo disso, é o governo do Rio de Janeiro, que traz a iniciativa do portal ISPDados. Neste projeto, farei uma análise em cima dos indicadores estatísticos da violência no Rio, explorando algumas das variáveis fornecidas."
      ]
    },
    {
      "cell_type": "markdown",
      "metadata": {
        "id": "0zxQHhIUDF_2"
      },
      "source": [
        "## Obtenção dos Dados\n",
        "\n",
        "Estes dados foram obtidos através do portal ISPDados, que é uma página de Dados Abertos do Instituto de Segurança Pública do Rio de Janeiro.\n",
        "\n",
        "As estatísticas divulgadas são construídas por meio dos Registros de Ocorrência (RO) lavrados nas delegacias de Polícia Civil do Estado do Rio de Janeiro, e também de informações complementares de órgãos específicos da Polícia Militar do Estado do Rio de Janeiro.\n",
        "\n",
        "Com o objetivo de se criar um controle de qualidade maior, antes de serem consolidados no ISP os RO são submetidos à Corregedoria Interna da Polícia Civil (COINPOL). Estas estatísticas produzidas  baseiam-se na data em que foi confeccionado o Registro de Ocorrência.\n",
        "\n",
        "Neste dataset, o arquivo csv pode ser baixado diretamente neste link."
      ]
    },
    {
      "cell_type": "markdown",
      "metadata": {
        "id": "7vh4at0l90nr"
      },
      "source": [
        "### Importando os dados\n",
        "\n"
      ]
    },
    {
      "cell_type": "code",
      "metadata": {
        "id": "CYLNme_OCX_R"
      },
      "source": [
        "import pandas as pd\n",
        "import matplotlib.pyplot as plt\n",
        "import seaborn as sns "
      ],
      "execution_count": 2,
      "outputs": []
    },
    {
      "cell_type": "code",
      "source": [
        "#importando o arquivo \n",
        "df= pd.read_csv('https://raw.githubusercontent.com/carlosfab/dsnp2/master/datasets/violencia_rio.csv')"
      ],
      "metadata": {
        "id": "suDSmisivXFg"
      },
      "execution_count": 3,
      "outputs": []
    },
    {
      "cell_type": "markdown",
      "metadata": {
        "id": "qb5By2nIMS6m"
      },
      "source": [
        "## Análise Inicial dos Dados\n",
        "\n",
        "\n"
      ]
    },
    {
      "cell_type": "code",
      "source": [
        "df.head()"
      ],
      "metadata": {
        "colab": {
          "base_uri": "https://localhost:8080/",
          "height": 300
        },
        "id": "GZIgDc0Nx03u",
        "outputId": "951159b8-eaea-4b55-988a-1ecfdd412392"
      },
      "execution_count": null,
      "outputs": [
        {
          "output_type": "execute_result",
          "data": {
            "text/plain": [
              "   vano  mes  hom_doloso  lesao_corp_morte  latrocinio  \\\n",
              "0  1991    1         657               NaN          15   \n",
              "1  1991    2         732               NaN          17   \n",
              "2  1991    3         713               NaN          25   \n",
              "3  1991    4         634               NaN          20   \n",
              "4  1991    5         650               NaN          20   \n",
              "\n",
              "   hom_por_interv_policial  tentat_hom  lesao_corp_dolosa  estupro  \\\n",
              "0                      NaN         162               3051      NaN   \n",
              "1                      NaN         175               3421      NaN   \n",
              "2                      NaN         216               3613      NaN   \n",
              "3                      NaN         200               3211      NaN   \n",
              "4                      NaN         146               3051      NaN   \n",
              "\n",
              "   hom_culposo  ...  pessoas_desaparecidas  encontro_cadaver  encontro_ossada  \\\n",
              "0          NaN  ...                    NaN               217              NaN   \n",
              "1          NaN  ...                    NaN               209              NaN   \n",
              "2          NaN  ...                    NaN               188              NaN   \n",
              "3          NaN  ...                    NaN               140              NaN   \n",
              "4          NaN  ...                    NaN                78              NaN   \n",
              "\n",
              "   pol_militares_mortos_serv  pol_civis_mortos_serv  indicador_letalidade  \\\n",
              "0                        NaN                    NaN                   672   \n",
              "1                        NaN                    NaN                   749   \n",
              "2                        NaN                    NaN                   738   \n",
              "3                        NaN                    NaN                   654   \n",
              "4                        NaN                    NaN                   670   \n",
              "\n",
              "   indicador_roubo_rua  indicador_roubo_veic  registro_ocorrencias  fase  \n",
              "0                 1348                  1174                   NaN     3  \n",
              "1                 1395                  1097                   NaN     3  \n",
              "2                 1385                  1265                   NaN     3  \n",
              "3                 1540                  1415                   NaN     3  \n",
              "4                 1266                  1449                   NaN     3  \n",
              "\n",
              "[5 rows x 56 columns]"
            ],
            "text/html": [
              "\n",
              "  <div id=\"df-579e2ba2-44f1-4b62-b7f8-76ce445f6c71\">\n",
              "    <div class=\"colab-df-container\">\n",
              "      <div>\n",
              "<style scoped>\n",
              "    .dataframe tbody tr th:only-of-type {\n",
              "        vertical-align: middle;\n",
              "    }\n",
              "\n",
              "    .dataframe tbody tr th {\n",
              "        vertical-align: top;\n",
              "    }\n",
              "\n",
              "    .dataframe thead th {\n",
              "        text-align: right;\n",
              "    }\n",
              "</style>\n",
              "<table border=\"1\" class=\"dataframe\">\n",
              "  <thead>\n",
              "    <tr style=\"text-align: right;\">\n",
              "      <th></th>\n",
              "      <th>vano</th>\n",
              "      <th>mes</th>\n",
              "      <th>hom_doloso</th>\n",
              "      <th>lesao_corp_morte</th>\n",
              "      <th>latrocinio</th>\n",
              "      <th>hom_por_interv_policial</th>\n",
              "      <th>tentat_hom</th>\n",
              "      <th>lesao_corp_dolosa</th>\n",
              "      <th>estupro</th>\n",
              "      <th>hom_culposo</th>\n",
              "      <th>...</th>\n",
              "      <th>pessoas_desaparecidas</th>\n",
              "      <th>encontro_cadaver</th>\n",
              "      <th>encontro_ossada</th>\n",
              "      <th>pol_militares_mortos_serv</th>\n",
              "      <th>pol_civis_mortos_serv</th>\n",
              "      <th>indicador_letalidade</th>\n",
              "      <th>indicador_roubo_rua</th>\n",
              "      <th>indicador_roubo_veic</th>\n",
              "      <th>registro_ocorrencias</th>\n",
              "      <th>fase</th>\n",
              "    </tr>\n",
              "  </thead>\n",
              "  <tbody>\n",
              "    <tr>\n",
              "      <th>0</th>\n",
              "      <td>1991</td>\n",
              "      <td>1</td>\n",
              "      <td>657</td>\n",
              "      <td>NaN</td>\n",
              "      <td>15</td>\n",
              "      <td>NaN</td>\n",
              "      <td>162</td>\n",
              "      <td>3051</td>\n",
              "      <td>NaN</td>\n",
              "      <td>NaN</td>\n",
              "      <td>...</td>\n",
              "      <td>NaN</td>\n",
              "      <td>217</td>\n",
              "      <td>NaN</td>\n",
              "      <td>NaN</td>\n",
              "      <td>NaN</td>\n",
              "      <td>672</td>\n",
              "      <td>1348</td>\n",
              "      <td>1174</td>\n",
              "      <td>NaN</td>\n",
              "      <td>3</td>\n",
              "    </tr>\n",
              "    <tr>\n",
              "      <th>1</th>\n",
              "      <td>1991</td>\n",
              "      <td>2</td>\n",
              "      <td>732</td>\n",
              "      <td>NaN</td>\n",
              "      <td>17</td>\n",
              "      <td>NaN</td>\n",
              "      <td>175</td>\n",
              "      <td>3421</td>\n",
              "      <td>NaN</td>\n",
              "      <td>NaN</td>\n",
              "      <td>...</td>\n",
              "      <td>NaN</td>\n",
              "      <td>209</td>\n",
              "      <td>NaN</td>\n",
              "      <td>NaN</td>\n",
              "      <td>NaN</td>\n",
              "      <td>749</td>\n",
              "      <td>1395</td>\n",
              "      <td>1097</td>\n",
              "      <td>NaN</td>\n",
              "      <td>3</td>\n",
              "    </tr>\n",
              "    <tr>\n",
              "      <th>2</th>\n",
              "      <td>1991</td>\n",
              "      <td>3</td>\n",
              "      <td>713</td>\n",
              "      <td>NaN</td>\n",
              "      <td>25</td>\n",
              "      <td>NaN</td>\n",
              "      <td>216</td>\n",
              "      <td>3613</td>\n",
              "      <td>NaN</td>\n",
              "      <td>NaN</td>\n",
              "      <td>...</td>\n",
              "      <td>NaN</td>\n",
              "      <td>188</td>\n",
              "      <td>NaN</td>\n",
              "      <td>NaN</td>\n",
              "      <td>NaN</td>\n",
              "      <td>738</td>\n",
              "      <td>1385</td>\n",
              "      <td>1265</td>\n",
              "      <td>NaN</td>\n",
              "      <td>3</td>\n",
              "    </tr>\n",
              "    <tr>\n",
              "      <th>3</th>\n",
              "      <td>1991</td>\n",
              "      <td>4</td>\n",
              "      <td>634</td>\n",
              "      <td>NaN</td>\n",
              "      <td>20</td>\n",
              "      <td>NaN</td>\n",
              "      <td>200</td>\n",
              "      <td>3211</td>\n",
              "      <td>NaN</td>\n",
              "      <td>NaN</td>\n",
              "      <td>...</td>\n",
              "      <td>NaN</td>\n",
              "      <td>140</td>\n",
              "      <td>NaN</td>\n",
              "      <td>NaN</td>\n",
              "      <td>NaN</td>\n",
              "      <td>654</td>\n",
              "      <td>1540</td>\n",
              "      <td>1415</td>\n",
              "      <td>NaN</td>\n",
              "      <td>3</td>\n",
              "    </tr>\n",
              "    <tr>\n",
              "      <th>4</th>\n",
              "      <td>1991</td>\n",
              "      <td>5</td>\n",
              "      <td>650</td>\n",
              "      <td>NaN</td>\n",
              "      <td>20</td>\n",
              "      <td>NaN</td>\n",
              "      <td>146</td>\n",
              "      <td>3051</td>\n",
              "      <td>NaN</td>\n",
              "      <td>NaN</td>\n",
              "      <td>...</td>\n",
              "      <td>NaN</td>\n",
              "      <td>78</td>\n",
              "      <td>NaN</td>\n",
              "      <td>NaN</td>\n",
              "      <td>NaN</td>\n",
              "      <td>670</td>\n",
              "      <td>1266</td>\n",
              "      <td>1449</td>\n",
              "      <td>NaN</td>\n",
              "      <td>3</td>\n",
              "    </tr>\n",
              "  </tbody>\n",
              "</table>\n",
              "<p>5 rows × 56 columns</p>\n",
              "</div>\n",
              "      <button class=\"colab-df-convert\" onclick=\"convertToInteractive('df-579e2ba2-44f1-4b62-b7f8-76ce445f6c71')\"\n",
              "              title=\"Convert this dataframe to an interactive table.\"\n",
              "              style=\"display:none;\">\n",
              "        \n",
              "  <svg xmlns=\"http://www.w3.org/2000/svg\" height=\"24px\"viewBox=\"0 0 24 24\"\n",
              "       width=\"24px\">\n",
              "    <path d=\"M0 0h24v24H0V0z\" fill=\"none\"/>\n",
              "    <path d=\"M18.56 5.44l.94 2.06.94-2.06 2.06-.94-2.06-.94-.94-2.06-.94 2.06-2.06.94zm-11 1L8.5 8.5l.94-2.06 2.06-.94-2.06-.94L8.5 2.5l-.94 2.06-2.06.94zm10 10l.94 2.06.94-2.06 2.06-.94-2.06-.94-.94-2.06-.94 2.06-2.06.94z\"/><path d=\"M17.41 7.96l-1.37-1.37c-.4-.4-.92-.59-1.43-.59-.52 0-1.04.2-1.43.59L10.3 9.45l-7.72 7.72c-.78.78-.78 2.05 0 2.83L4 21.41c.39.39.9.59 1.41.59.51 0 1.02-.2 1.41-.59l7.78-7.78 2.81-2.81c.8-.78.8-2.07 0-2.86zM5.41 20L4 18.59l7.72-7.72 1.47 1.35L5.41 20z\"/>\n",
              "  </svg>\n",
              "      </button>\n",
              "      \n",
              "  <style>\n",
              "    .colab-df-container {\n",
              "      display:flex;\n",
              "      flex-wrap:wrap;\n",
              "      gap: 12px;\n",
              "    }\n",
              "\n",
              "    .colab-df-convert {\n",
              "      background-color: #E8F0FE;\n",
              "      border: none;\n",
              "      border-radius: 50%;\n",
              "      cursor: pointer;\n",
              "      display: none;\n",
              "      fill: #1967D2;\n",
              "      height: 32px;\n",
              "      padding: 0 0 0 0;\n",
              "      width: 32px;\n",
              "    }\n",
              "\n",
              "    .colab-df-convert:hover {\n",
              "      background-color: #E2EBFA;\n",
              "      box-shadow: 0px 1px 2px rgba(60, 64, 67, 0.3), 0px 1px 3px 1px rgba(60, 64, 67, 0.15);\n",
              "      fill: #174EA6;\n",
              "    }\n",
              "\n",
              "    [theme=dark] .colab-df-convert {\n",
              "      background-color: #3B4455;\n",
              "      fill: #D2E3FC;\n",
              "    }\n",
              "\n",
              "    [theme=dark] .colab-df-convert:hover {\n",
              "      background-color: #434B5C;\n",
              "      box-shadow: 0px 1px 3px 1px rgba(0, 0, 0, 0.15);\n",
              "      filter: drop-shadow(0px 1px 2px rgba(0, 0, 0, 0.3));\n",
              "      fill: #FFFFFF;\n",
              "    }\n",
              "  </style>\n",
              "\n",
              "      <script>\n",
              "        const buttonEl =\n",
              "          document.querySelector('#df-579e2ba2-44f1-4b62-b7f8-76ce445f6c71 button.colab-df-convert');\n",
              "        buttonEl.style.display =\n",
              "          google.colab.kernel.accessAllowed ? 'block' : 'none';\n",
              "\n",
              "        async function convertToInteractive(key) {\n",
              "          const element = document.querySelector('#df-579e2ba2-44f1-4b62-b7f8-76ce445f6c71');\n",
              "          const dataTable =\n",
              "            await google.colab.kernel.invokeFunction('convertToInteractive',\n",
              "                                                     [key], {});\n",
              "          if (!dataTable) return;\n",
              "\n",
              "          const docLinkHtml = 'Like what you see? Visit the ' +\n",
              "            '<a target=\"_blank\" href=https://colab.research.google.com/notebooks/data_table.ipynb>data table notebook</a>'\n",
              "            + ' to learn more about interactive tables.';\n",
              "          element.innerHTML = '';\n",
              "          dataTable['output_type'] = 'display_data';\n",
              "          await google.colab.output.renderOutput(dataTable, element);\n",
              "          const docLink = document.createElement('div');\n",
              "          docLink.innerHTML = docLinkHtml;\n",
              "          element.appendChild(docLink);\n",
              "        }\n",
              "      </script>\n",
              "    </div>\n",
              "  </div>\n",
              "  "
            ]
          },
          "metadata": {},
          "execution_count": 13
        }
      ]
    },
    {
      "cell_type": "code",
      "source": [
        "df.info()"
      ],
      "metadata": {
        "id": "mDwq-s9Fvobj",
        "outputId": "cc502647-09a6-4815-a635-bdadc2b61961",
        "colab": {
          "base_uri": "https://localhost:8080/"
        }
      },
      "execution_count": null,
      "outputs": [
        {
          "output_type": "stream",
          "name": "stdout",
          "text": [
            "<class 'pandas.core.frame.DataFrame'>\n",
            "MultiIndex: 236 entries, (2000, 1) to (2019, 8)\n",
            "Data columns (total 54 columns):\n",
            " #   Column                      Non-Null Count  Dtype  \n",
            "---  ------                      --------------  -----  \n",
            " 0   hom_doloso                  236 non-null    int64  \n",
            " 1   lesao_corp_morte            236 non-null    float64\n",
            " 2   latrocinio                  236 non-null    int64  \n",
            " 3   hom_por_interv_policial     236 non-null    float64\n",
            " 4   tentat_hom                  236 non-null    int64  \n",
            " 5   lesao_corp_dolosa           236 non-null    int64  \n",
            " 6   estupro                     200 non-null    float64\n",
            " 7   hom_culposo                 236 non-null    float64\n",
            " 8   lesao_corp_culposa          236 non-null    float64\n",
            " 9   roubo_comercio              236 non-null    int64  \n",
            " 10  roubo_residencia            236 non-null    int64  \n",
            " 11  roubo_veiculo               236 non-null    int64  \n",
            " 12  roubo_carga                 236 non-null    int64  \n",
            " 13  roubo_transeunte            236 non-null    int64  \n",
            " 14  roubo_em_coletivo           236 non-null    int64  \n",
            " 15  roubo_banco                 236 non-null    int64  \n",
            " 16  roubo_cx_eletronico         200 non-null    float64\n",
            " 17  roubo_celular               236 non-null    float64\n",
            " 18  roubo_conducao_saque        200 non-null    float64\n",
            " 19  roubo_apos_saque            200 non-null    float64\n",
            " 20  roubo_bicicleta             68 non-null     float64\n",
            " 21  outros_roubos               236 non-null    int64  \n",
            " 22  total_roubos                236 non-null    int64  \n",
            " 23  furto_veiculos              236 non-null    int64  \n",
            " 24  furto_transeunte            236 non-null    int64  \n",
            " 25  furto_coletivo              200 non-null    float64\n",
            " 26  furto_celular               200 non-null    float64\n",
            " 27  furto_bicicleta             68 non-null     float64\n",
            " 28  outros_furtos               236 non-null    int64  \n",
            " 29  total_furtos                236 non-null    int64  \n",
            " 30  sequestro                   236 non-null    float64\n",
            " 31  extorsao                    200 non-null    float64\n",
            " 32  sequestro_relampago         200 non-null    float64\n",
            " 33  estelionato                 200 non-null    float64\n",
            " 34  apreensao_drogas            236 non-null    int64  \n",
            " 35  posse_drogas                164 non-null    float64\n",
            " 36  trafico_drogas              164 non-null    float64\n",
            " 37  apreensao_drogas_sem_autor  164 non-null    float64\n",
            " 38  recuperacao_veiculos        236 non-null    int64  \n",
            " 39  apf                         164 non-null    float64\n",
            " 40  aaapai                      164 non-null    float64\n",
            " 41  cmp                         164 non-null    float64\n",
            " 42  cmba                        164 non-null    float64\n",
            " 43  ameaca                      236 non-null    float64\n",
            " 44  pessoas_desaparecidas       212 non-null    float64\n",
            " 45  encontro_cadaver            236 non-null    int64  \n",
            " 46  encontro_ossada             212 non-null    float64\n",
            " 47  pol_militares_mortos_serv   200 non-null    float64\n",
            " 48  pol_civis_mortos_serv       200 non-null    float64\n",
            " 49  indicador_letalidade        236 non-null    int64  \n",
            " 50  indicador_roubo_rua         236 non-null    int64  \n",
            " 51  indicador_roubo_veic        236 non-null    int64  \n",
            " 52  registro_ocorrencias        236 non-null    float64\n",
            " 53  fase                        236 non-null    int64  \n",
            "dtypes: float64(30), int64(24)\n",
            "memory usage: 101.2 KB\n"
          ]
        }
      ]
    },
    {
      "cell_type": "code",
      "source": [
        "#renomeando a variavel ano\n",
        "df = df.rename(columns={'vano': 'ano'})"
      ],
      "metadata": {
        "id": "aa1UWybj55tH"
      },
      "execution_count": 5,
      "outputs": []
    },
    {
      "cell_type": "code",
      "source": [
        "df_tempo=df.set_index(['ano', 'mes'])"
      ],
      "metadata": {
        "id": "uf111kiL6kLe"
      },
      "execution_count": 6,
      "outputs": []
    },
    {
      "cell_type": "code",
      "source": [
        "df.head()"
      ],
      "metadata": {
        "id": "K17C7ulgHSlB",
        "outputId": "d9fbc177-5ed9-472b-84a0-2a7d245e4714",
        "colab": {
          "base_uri": "https://localhost:8080/",
          "height": 331
        }
      },
      "execution_count": null,
      "outputs": [
        {
          "output_type": "execute_result",
          "data": {
            "text/plain": [
              "          hom_doloso  lesao_corp_morte  latrocinio  hom_por_interv_policial  \\\n",
              "ano  mes                                                                      \n",
              "2000 1           547              11.0          13                     37.0   \n",
              "     2           500               6.0          11                     32.0   \n",
              "     3           572              12.0          12                     25.0   \n",
              "     4           546               7.0          19                     22.0   \n",
              "     5           577               7.0          13                     30.0   \n",
              "\n",
              "          tentat_hom  lesao_corp_dolosa  estupro  hom_culposo  \\\n",
              "ano  mes                                                        \n",
              "2000 1           190               6254      NaN        264.0   \n",
              "     2           202               5983      NaN        252.0   \n",
              "     3           241               5891      NaN        202.0   \n",
              "     4           208               5594      NaN        192.0   \n",
              "     5           193               5466      NaN        248.0   \n",
              "\n",
              "          lesao_corp_culposa  roubo_comercio  ...  pessoas_desaparecidas  \\\n",
              "ano  mes                                      ...                          \n",
              "2000 1                6254.0             373  ...                    NaN   \n",
              "     2                5983.0             369  ...                    NaN   \n",
              "     3                5891.0             391  ...                    NaN   \n",
              "     4                5594.0             428  ...                    NaN   \n",
              "     5                5466.0             438  ...                    NaN   \n",
              "\n",
              "          encontro_cadaver  encontro_ossada  pol_militares_mortos_serv  \\\n",
              "ano  mes                                                                 \n",
              "2000 1                  71              NaN                        NaN   \n",
              "     2                  79              NaN                        NaN   \n",
              "     3                  99              NaN                        NaN   \n",
              "     4                  96              NaN                        NaN   \n",
              "     5                  82              NaN                        NaN   \n",
              "\n",
              "          pol_civis_mortos_serv  indicador_letalidade  indicador_roubo_rua  \\\n",
              "ano  mes                                                                     \n",
              "2000 1                      NaN                   608                 1911   \n",
              "     2                      NaN                   549                 2367   \n",
              "     3                      NaN                   621                 2276   \n",
              "     4                      NaN                   594                 2146   \n",
              "     5                      NaN                   627                 2426   \n",
              "\n",
              "          indicador_roubo_veic  registro_ocorrencias  fase  \n",
              "ano  mes                                                    \n",
              "2000 1                    2165               33870.0     3  \n",
              "     2                    2257               36131.0     3  \n",
              "     3                    2503               37426.0     3  \n",
              "     4                    2749               35786.0     3  \n",
              "     5                    2757               37301.0     3  \n",
              "\n",
              "[5 rows x 54 columns]"
            ],
            "text/html": [
              "\n",
              "  <div id=\"df-ae3830f6-10f9-4b5c-8261-9b523209b1ad\">\n",
              "    <div class=\"colab-df-container\">\n",
              "      <div>\n",
              "<style scoped>\n",
              "    .dataframe tbody tr th:only-of-type {\n",
              "        vertical-align: middle;\n",
              "    }\n",
              "\n",
              "    .dataframe tbody tr th {\n",
              "        vertical-align: top;\n",
              "    }\n",
              "\n",
              "    .dataframe thead th {\n",
              "        text-align: right;\n",
              "    }\n",
              "</style>\n",
              "<table border=\"1\" class=\"dataframe\">\n",
              "  <thead>\n",
              "    <tr style=\"text-align: right;\">\n",
              "      <th></th>\n",
              "      <th></th>\n",
              "      <th>hom_doloso</th>\n",
              "      <th>lesao_corp_morte</th>\n",
              "      <th>latrocinio</th>\n",
              "      <th>hom_por_interv_policial</th>\n",
              "      <th>tentat_hom</th>\n",
              "      <th>lesao_corp_dolosa</th>\n",
              "      <th>estupro</th>\n",
              "      <th>hom_culposo</th>\n",
              "      <th>lesao_corp_culposa</th>\n",
              "      <th>roubo_comercio</th>\n",
              "      <th>...</th>\n",
              "      <th>pessoas_desaparecidas</th>\n",
              "      <th>encontro_cadaver</th>\n",
              "      <th>encontro_ossada</th>\n",
              "      <th>pol_militares_mortos_serv</th>\n",
              "      <th>pol_civis_mortos_serv</th>\n",
              "      <th>indicador_letalidade</th>\n",
              "      <th>indicador_roubo_rua</th>\n",
              "      <th>indicador_roubo_veic</th>\n",
              "      <th>registro_ocorrencias</th>\n",
              "      <th>fase</th>\n",
              "    </tr>\n",
              "    <tr>\n",
              "      <th>ano</th>\n",
              "      <th>mes</th>\n",
              "      <th></th>\n",
              "      <th></th>\n",
              "      <th></th>\n",
              "      <th></th>\n",
              "      <th></th>\n",
              "      <th></th>\n",
              "      <th></th>\n",
              "      <th></th>\n",
              "      <th></th>\n",
              "      <th></th>\n",
              "      <th></th>\n",
              "      <th></th>\n",
              "      <th></th>\n",
              "      <th></th>\n",
              "      <th></th>\n",
              "      <th></th>\n",
              "      <th></th>\n",
              "      <th></th>\n",
              "      <th></th>\n",
              "      <th></th>\n",
              "      <th></th>\n",
              "    </tr>\n",
              "  </thead>\n",
              "  <tbody>\n",
              "    <tr>\n",
              "      <th rowspan=\"5\" valign=\"top\">2000</th>\n",
              "      <th>1</th>\n",
              "      <td>547</td>\n",
              "      <td>11.0</td>\n",
              "      <td>13</td>\n",
              "      <td>37.0</td>\n",
              "      <td>190</td>\n",
              "      <td>6254</td>\n",
              "      <td>NaN</td>\n",
              "      <td>264.0</td>\n",
              "      <td>6254.0</td>\n",
              "      <td>373</td>\n",
              "      <td>...</td>\n",
              "      <td>NaN</td>\n",
              "      <td>71</td>\n",
              "      <td>NaN</td>\n",
              "      <td>NaN</td>\n",
              "      <td>NaN</td>\n",
              "      <td>608</td>\n",
              "      <td>1911</td>\n",
              "      <td>2165</td>\n",
              "      <td>33870.0</td>\n",
              "      <td>3</td>\n",
              "    </tr>\n",
              "    <tr>\n",
              "      <th>2</th>\n",
              "      <td>500</td>\n",
              "      <td>6.0</td>\n",
              "      <td>11</td>\n",
              "      <td>32.0</td>\n",
              "      <td>202</td>\n",
              "      <td>5983</td>\n",
              "      <td>NaN</td>\n",
              "      <td>252.0</td>\n",
              "      <td>5983.0</td>\n",
              "      <td>369</td>\n",
              "      <td>...</td>\n",
              "      <td>NaN</td>\n",
              "      <td>79</td>\n",
              "      <td>NaN</td>\n",
              "      <td>NaN</td>\n",
              "      <td>NaN</td>\n",
              "      <td>549</td>\n",
              "      <td>2367</td>\n",
              "      <td>2257</td>\n",
              "      <td>36131.0</td>\n",
              "      <td>3</td>\n",
              "    </tr>\n",
              "    <tr>\n",
              "      <th>3</th>\n",
              "      <td>572</td>\n",
              "      <td>12.0</td>\n",
              "      <td>12</td>\n",
              "      <td>25.0</td>\n",
              "      <td>241</td>\n",
              "      <td>5891</td>\n",
              "      <td>NaN</td>\n",
              "      <td>202.0</td>\n",
              "      <td>5891.0</td>\n",
              "      <td>391</td>\n",
              "      <td>...</td>\n",
              "      <td>NaN</td>\n",
              "      <td>99</td>\n",
              "      <td>NaN</td>\n",
              "      <td>NaN</td>\n",
              "      <td>NaN</td>\n",
              "      <td>621</td>\n",
              "      <td>2276</td>\n",
              "      <td>2503</td>\n",
              "      <td>37426.0</td>\n",
              "      <td>3</td>\n",
              "    </tr>\n",
              "    <tr>\n",
              "      <th>4</th>\n",
              "      <td>546</td>\n",
              "      <td>7.0</td>\n",
              "      <td>19</td>\n",
              "      <td>22.0</td>\n",
              "      <td>208</td>\n",
              "      <td>5594</td>\n",
              "      <td>NaN</td>\n",
              "      <td>192.0</td>\n",
              "      <td>5594.0</td>\n",
              "      <td>428</td>\n",
              "      <td>...</td>\n",
              "      <td>NaN</td>\n",
              "      <td>96</td>\n",
              "      <td>NaN</td>\n",
              "      <td>NaN</td>\n",
              "      <td>NaN</td>\n",
              "      <td>594</td>\n",
              "      <td>2146</td>\n",
              "      <td>2749</td>\n",
              "      <td>35786.0</td>\n",
              "      <td>3</td>\n",
              "    </tr>\n",
              "    <tr>\n",
              "      <th>5</th>\n",
              "      <td>577</td>\n",
              "      <td>7.0</td>\n",
              "      <td>13</td>\n",
              "      <td>30.0</td>\n",
              "      <td>193</td>\n",
              "      <td>5466</td>\n",
              "      <td>NaN</td>\n",
              "      <td>248.0</td>\n",
              "      <td>5466.0</td>\n",
              "      <td>438</td>\n",
              "      <td>...</td>\n",
              "      <td>NaN</td>\n",
              "      <td>82</td>\n",
              "      <td>NaN</td>\n",
              "      <td>NaN</td>\n",
              "      <td>NaN</td>\n",
              "      <td>627</td>\n",
              "      <td>2426</td>\n",
              "      <td>2757</td>\n",
              "      <td>37301.0</td>\n",
              "      <td>3</td>\n",
              "    </tr>\n",
              "  </tbody>\n",
              "</table>\n",
              "<p>5 rows × 54 columns</p>\n",
              "</div>\n",
              "      <button class=\"colab-df-convert\" onclick=\"convertToInteractive('df-ae3830f6-10f9-4b5c-8261-9b523209b1ad')\"\n",
              "              title=\"Convert this dataframe to an interactive table.\"\n",
              "              style=\"display:none;\">\n",
              "        \n",
              "  <svg xmlns=\"http://www.w3.org/2000/svg\" height=\"24px\"viewBox=\"0 0 24 24\"\n",
              "       width=\"24px\">\n",
              "    <path d=\"M0 0h24v24H0V0z\" fill=\"none\"/>\n",
              "    <path d=\"M18.56 5.44l.94 2.06.94-2.06 2.06-.94-2.06-.94-.94-2.06-.94 2.06-2.06.94zm-11 1L8.5 8.5l.94-2.06 2.06-.94-2.06-.94L8.5 2.5l-.94 2.06-2.06.94zm10 10l.94 2.06.94-2.06 2.06-.94-2.06-.94-.94-2.06-.94 2.06-2.06.94z\"/><path d=\"M17.41 7.96l-1.37-1.37c-.4-.4-.92-.59-1.43-.59-.52 0-1.04.2-1.43.59L10.3 9.45l-7.72 7.72c-.78.78-.78 2.05 0 2.83L4 21.41c.39.39.9.59 1.41.59.51 0 1.02-.2 1.41-.59l7.78-7.78 2.81-2.81c.8-.78.8-2.07 0-2.86zM5.41 20L4 18.59l7.72-7.72 1.47 1.35L5.41 20z\"/>\n",
              "  </svg>\n",
              "      </button>\n",
              "      \n",
              "  <style>\n",
              "    .colab-df-container {\n",
              "      display:flex;\n",
              "      flex-wrap:wrap;\n",
              "      gap: 12px;\n",
              "    }\n",
              "\n",
              "    .colab-df-convert {\n",
              "      background-color: #E8F0FE;\n",
              "      border: none;\n",
              "      border-radius: 50%;\n",
              "      cursor: pointer;\n",
              "      display: none;\n",
              "      fill: #1967D2;\n",
              "      height: 32px;\n",
              "      padding: 0 0 0 0;\n",
              "      width: 32px;\n",
              "    }\n",
              "\n",
              "    .colab-df-convert:hover {\n",
              "      background-color: #E2EBFA;\n",
              "      box-shadow: 0px 1px 2px rgba(60, 64, 67, 0.3), 0px 1px 3px 1px rgba(60, 64, 67, 0.15);\n",
              "      fill: #174EA6;\n",
              "    }\n",
              "\n",
              "    [theme=dark] .colab-df-convert {\n",
              "      background-color: #3B4455;\n",
              "      fill: #D2E3FC;\n",
              "    }\n",
              "\n",
              "    [theme=dark] .colab-df-convert:hover {\n",
              "      background-color: #434B5C;\n",
              "      box-shadow: 0px 1px 3px 1px rgba(0, 0, 0, 0.15);\n",
              "      filter: drop-shadow(0px 1px 2px rgba(0, 0, 0, 0.3));\n",
              "      fill: #FFFFFF;\n",
              "    }\n",
              "  </style>\n",
              "\n",
              "      <script>\n",
              "        const buttonEl =\n",
              "          document.querySelector('#df-ae3830f6-10f9-4b5c-8261-9b523209b1ad button.colab-df-convert');\n",
              "        buttonEl.style.display =\n",
              "          google.colab.kernel.accessAllowed ? 'block' : 'none';\n",
              "\n",
              "        async function convertToInteractive(key) {\n",
              "          const element = document.querySelector('#df-ae3830f6-10f9-4b5c-8261-9b523209b1ad');\n",
              "          const dataTable =\n",
              "            await google.colab.kernel.invokeFunction('convertToInteractive',\n",
              "                                                     [key], {});\n",
              "          if (!dataTable) return;\n",
              "\n",
              "          const docLinkHtml = 'Like what you see? Visit the ' +\n",
              "            '<a target=\"_blank\" href=https://colab.research.google.com/notebooks/data_table.ipynb>data table notebook</a>'\n",
              "            + ' to learn more about interactive tables.';\n",
              "          element.innerHTML = '';\n",
              "          dataTable['output_type'] = 'display_data';\n",
              "          await google.colab.output.renderOutput(dataTable, element);\n",
              "          const docLink = document.createElement('div');\n",
              "          docLink.innerHTML = docLinkHtml;\n",
              "          element.appendChild(docLink);\n",
              "        }\n",
              "      </script>\n",
              "    </div>\n",
              "  </div>\n",
              "  "
            ]
          },
          "metadata": {},
          "execution_count": 81
        }
      ]
    },
    {
      "cell_type": "code",
      "source": [
        "#verificando tamanho\n",
        "df.shape"
      ],
      "metadata": {
        "colab": {
          "base_uri": "https://localhost:8080/"
        },
        "id": "XDPp5zYUxrSW",
        "outputId": "b6b22343-c7ff-4093-e990-0d4bec1ec9ea"
      },
      "execution_count": null,
      "outputs": [
        {
          "output_type": "execute_result",
          "data": {
            "text/plain": [
              "(344, 56)"
            ]
          },
          "metadata": {},
          "execution_count": 12
        }
      ]
    },
    {
      "cell_type": "code",
      "source": [
        "#verificando valores nulos\n",
        "df.isnull().sum()/df.shape[0]*100"
      ],
      "metadata": {
        "colab": {
          "base_uri": "https://localhost:8080/"
        },
        "id": "-m3JcvPbx91j",
        "outputId": "dc9c822b-8060-4cde-f8b4-6ee4077aa28b"
      },
      "execution_count": null,
      "outputs": [
        {
          "output_type": "execute_result",
          "data": {
            "text/plain": [
              "hom_doloso                     0.000000\n",
              "lesao_corp_morte               0.000000\n",
              "latrocinio                     0.000000\n",
              "hom_por_interv_policial        0.000000\n",
              "tentat_hom                     0.000000\n",
              "lesao_corp_dolosa              0.000000\n",
              "estupro                       15.254237\n",
              "hom_culposo                    0.000000\n",
              "lesao_corp_culposa             0.000000\n",
              "roubo_comercio                 0.000000\n",
              "roubo_residencia               0.000000\n",
              "roubo_veiculo                  0.000000\n",
              "roubo_carga                    0.000000\n",
              "roubo_transeunte               0.000000\n",
              "roubo_em_coletivo              0.000000\n",
              "roubo_banco                    0.000000\n",
              "roubo_cx_eletronico           15.254237\n",
              "roubo_celular                  0.000000\n",
              "roubo_conducao_saque          15.254237\n",
              "roubo_apos_saque              15.254237\n",
              "roubo_bicicleta               71.186441\n",
              "outros_roubos                  0.000000\n",
              "total_roubos                   0.000000\n",
              "furto_veiculos                 0.000000\n",
              "furto_transeunte               0.000000\n",
              "furto_coletivo                15.254237\n",
              "furto_celular                 15.254237\n",
              "furto_bicicleta               71.186441\n",
              "outros_furtos                  0.000000\n",
              "total_furtos                   0.000000\n",
              "sequestro                      0.000000\n",
              "extorsao                      15.254237\n",
              "sequestro_relampago           15.254237\n",
              "estelionato                   15.254237\n",
              "apreensao_drogas               0.000000\n",
              "posse_drogas                  30.508475\n",
              "trafico_drogas                30.508475\n",
              "apreensao_drogas_sem_autor    30.508475\n",
              "recuperacao_veiculos           0.000000\n",
              "apf                           30.508475\n",
              "aaapai                        30.508475\n",
              "cmp                           30.508475\n",
              "cmba                          30.508475\n",
              "ameaca                         0.000000\n",
              "pessoas_desaparecidas         10.169492\n",
              "encontro_cadaver               0.000000\n",
              "encontro_ossada               10.169492\n",
              "pol_militares_mortos_serv     15.254237\n",
              "pol_civis_mortos_serv         15.254237\n",
              "indicador_letalidade           0.000000\n",
              "indicador_roubo_rua            0.000000\n",
              "indicador_roubo_veic           0.000000\n",
              "registro_ocorrencias           0.000000\n",
              "fase                           0.000000\n",
              "dtype: float64"
            ]
          },
          "metadata": {},
          "execution_count": 78
        }
      ]
    },
    {
      "cell_type": "code",
      "source": [
        "df_ano= df.ano.unique()\n",
        "print('A serie histórica  foi de {} a {}'.format(df_ano[0],df_ano[-1]))"
      ],
      "metadata": {
        "colab": {
          "base_uri": "https://localhost:8080/"
        },
        "id": "j6gXRVRFwI92",
        "outputId": "75160841-9713-4a18-df26-cf85f4d42fca"
      },
      "execution_count": null,
      "outputs": [
        {
          "output_type": "stream",
          "name": "stdout",
          "text": [
            "A serie histórica  foi de 1991 a 2019\n"
          ]
        }
      ]
    },
    {
      "cell_type": "code",
      "source": [
        "#extraindo dados a partir dos anos 2000.\n",
        "#criando a variavel \n",
        "df_menor_2000= df[df.ano < 2000]\n",
        "#limpando o dataset\n",
        "df = df.drop(df_menor_2000.index, axis=0)\n",
        "#verificacao \n",
        "df.head()"
      ],
      "metadata": {
        "colab": {
          "base_uri": "https://localhost:8080/",
          "height": 300
        },
        "id": "sXbPqjPuybkB",
        "outputId": "982a9582-a7ec-4f2e-bbbd-5cd03d9cb260"
      },
      "execution_count": 7,
      "outputs": [
        {
          "output_type": "execute_result",
          "data": {
            "text/plain": [
              "      ano  mes  hom_doloso  lesao_corp_morte  latrocinio  \\\n",
              "108  2000    1         547              11.0          13   \n",
              "109  2000    2         500               6.0          11   \n",
              "110  2000    3         572              12.0          12   \n",
              "111  2000    4         546               7.0          19   \n",
              "112  2000    5         577               7.0          13   \n",
              "\n",
              "     hom_por_interv_policial  tentat_hom  lesao_corp_dolosa  estupro  \\\n",
              "108                     37.0         190               6254      NaN   \n",
              "109                     32.0         202               5983      NaN   \n",
              "110                     25.0         241               5891      NaN   \n",
              "111                     22.0         208               5594      NaN   \n",
              "112                     30.0         193               5466      NaN   \n",
              "\n",
              "     hom_culposo  ...  pessoas_desaparecidas  encontro_cadaver  \\\n",
              "108        264.0  ...                    NaN                71   \n",
              "109        252.0  ...                    NaN                79   \n",
              "110        202.0  ...                    NaN                99   \n",
              "111        192.0  ...                    NaN                96   \n",
              "112        248.0  ...                    NaN                82   \n",
              "\n",
              "     encontro_ossada  pol_militares_mortos_serv  pol_civis_mortos_serv  \\\n",
              "108              NaN                        NaN                    NaN   \n",
              "109              NaN                        NaN                    NaN   \n",
              "110              NaN                        NaN                    NaN   \n",
              "111              NaN                        NaN                    NaN   \n",
              "112              NaN                        NaN                    NaN   \n",
              "\n",
              "     indicador_letalidade  indicador_roubo_rua  indicador_roubo_veic  \\\n",
              "108                   608                 1911                  2165   \n",
              "109                   549                 2367                  2257   \n",
              "110                   621                 2276                  2503   \n",
              "111                   594                 2146                  2749   \n",
              "112                   627                 2426                  2757   \n",
              "\n",
              "     registro_ocorrencias  fase  \n",
              "108               33870.0     3  \n",
              "109               36131.0     3  \n",
              "110               37426.0     3  \n",
              "111               35786.0     3  \n",
              "112               37301.0     3  \n",
              "\n",
              "[5 rows x 56 columns]"
            ],
            "text/html": [
              "\n",
              "  <div id=\"df-50a3dc32-5134-4ff9-a346-ce837b13948a\">\n",
              "    <div class=\"colab-df-container\">\n",
              "      <div>\n",
              "<style scoped>\n",
              "    .dataframe tbody tr th:only-of-type {\n",
              "        vertical-align: middle;\n",
              "    }\n",
              "\n",
              "    .dataframe tbody tr th {\n",
              "        vertical-align: top;\n",
              "    }\n",
              "\n",
              "    .dataframe thead th {\n",
              "        text-align: right;\n",
              "    }\n",
              "</style>\n",
              "<table border=\"1\" class=\"dataframe\">\n",
              "  <thead>\n",
              "    <tr style=\"text-align: right;\">\n",
              "      <th></th>\n",
              "      <th>ano</th>\n",
              "      <th>mes</th>\n",
              "      <th>hom_doloso</th>\n",
              "      <th>lesao_corp_morte</th>\n",
              "      <th>latrocinio</th>\n",
              "      <th>hom_por_interv_policial</th>\n",
              "      <th>tentat_hom</th>\n",
              "      <th>lesao_corp_dolosa</th>\n",
              "      <th>estupro</th>\n",
              "      <th>hom_culposo</th>\n",
              "      <th>...</th>\n",
              "      <th>pessoas_desaparecidas</th>\n",
              "      <th>encontro_cadaver</th>\n",
              "      <th>encontro_ossada</th>\n",
              "      <th>pol_militares_mortos_serv</th>\n",
              "      <th>pol_civis_mortos_serv</th>\n",
              "      <th>indicador_letalidade</th>\n",
              "      <th>indicador_roubo_rua</th>\n",
              "      <th>indicador_roubo_veic</th>\n",
              "      <th>registro_ocorrencias</th>\n",
              "      <th>fase</th>\n",
              "    </tr>\n",
              "  </thead>\n",
              "  <tbody>\n",
              "    <tr>\n",
              "      <th>108</th>\n",
              "      <td>2000</td>\n",
              "      <td>1</td>\n",
              "      <td>547</td>\n",
              "      <td>11.0</td>\n",
              "      <td>13</td>\n",
              "      <td>37.0</td>\n",
              "      <td>190</td>\n",
              "      <td>6254</td>\n",
              "      <td>NaN</td>\n",
              "      <td>264.0</td>\n",
              "      <td>...</td>\n",
              "      <td>NaN</td>\n",
              "      <td>71</td>\n",
              "      <td>NaN</td>\n",
              "      <td>NaN</td>\n",
              "      <td>NaN</td>\n",
              "      <td>608</td>\n",
              "      <td>1911</td>\n",
              "      <td>2165</td>\n",
              "      <td>33870.0</td>\n",
              "      <td>3</td>\n",
              "    </tr>\n",
              "    <tr>\n",
              "      <th>109</th>\n",
              "      <td>2000</td>\n",
              "      <td>2</td>\n",
              "      <td>500</td>\n",
              "      <td>6.0</td>\n",
              "      <td>11</td>\n",
              "      <td>32.0</td>\n",
              "      <td>202</td>\n",
              "      <td>5983</td>\n",
              "      <td>NaN</td>\n",
              "      <td>252.0</td>\n",
              "      <td>...</td>\n",
              "      <td>NaN</td>\n",
              "      <td>79</td>\n",
              "      <td>NaN</td>\n",
              "      <td>NaN</td>\n",
              "      <td>NaN</td>\n",
              "      <td>549</td>\n",
              "      <td>2367</td>\n",
              "      <td>2257</td>\n",
              "      <td>36131.0</td>\n",
              "      <td>3</td>\n",
              "    </tr>\n",
              "    <tr>\n",
              "      <th>110</th>\n",
              "      <td>2000</td>\n",
              "      <td>3</td>\n",
              "      <td>572</td>\n",
              "      <td>12.0</td>\n",
              "      <td>12</td>\n",
              "      <td>25.0</td>\n",
              "      <td>241</td>\n",
              "      <td>5891</td>\n",
              "      <td>NaN</td>\n",
              "      <td>202.0</td>\n",
              "      <td>...</td>\n",
              "      <td>NaN</td>\n",
              "      <td>99</td>\n",
              "      <td>NaN</td>\n",
              "      <td>NaN</td>\n",
              "      <td>NaN</td>\n",
              "      <td>621</td>\n",
              "      <td>2276</td>\n",
              "      <td>2503</td>\n",
              "      <td>37426.0</td>\n",
              "      <td>3</td>\n",
              "    </tr>\n",
              "    <tr>\n",
              "      <th>111</th>\n",
              "      <td>2000</td>\n",
              "      <td>4</td>\n",
              "      <td>546</td>\n",
              "      <td>7.0</td>\n",
              "      <td>19</td>\n",
              "      <td>22.0</td>\n",
              "      <td>208</td>\n",
              "      <td>5594</td>\n",
              "      <td>NaN</td>\n",
              "      <td>192.0</td>\n",
              "      <td>...</td>\n",
              "      <td>NaN</td>\n",
              "      <td>96</td>\n",
              "      <td>NaN</td>\n",
              "      <td>NaN</td>\n",
              "      <td>NaN</td>\n",
              "      <td>594</td>\n",
              "      <td>2146</td>\n",
              "      <td>2749</td>\n",
              "      <td>35786.0</td>\n",
              "      <td>3</td>\n",
              "    </tr>\n",
              "    <tr>\n",
              "      <th>112</th>\n",
              "      <td>2000</td>\n",
              "      <td>5</td>\n",
              "      <td>577</td>\n",
              "      <td>7.0</td>\n",
              "      <td>13</td>\n",
              "      <td>30.0</td>\n",
              "      <td>193</td>\n",
              "      <td>5466</td>\n",
              "      <td>NaN</td>\n",
              "      <td>248.0</td>\n",
              "      <td>...</td>\n",
              "      <td>NaN</td>\n",
              "      <td>82</td>\n",
              "      <td>NaN</td>\n",
              "      <td>NaN</td>\n",
              "      <td>NaN</td>\n",
              "      <td>627</td>\n",
              "      <td>2426</td>\n",
              "      <td>2757</td>\n",
              "      <td>37301.0</td>\n",
              "      <td>3</td>\n",
              "    </tr>\n",
              "  </tbody>\n",
              "</table>\n",
              "<p>5 rows × 56 columns</p>\n",
              "</div>\n",
              "      <button class=\"colab-df-convert\" onclick=\"convertToInteractive('df-50a3dc32-5134-4ff9-a346-ce837b13948a')\"\n",
              "              title=\"Convert this dataframe to an interactive table.\"\n",
              "              style=\"display:none;\">\n",
              "        \n",
              "  <svg xmlns=\"http://www.w3.org/2000/svg\" height=\"24px\"viewBox=\"0 0 24 24\"\n",
              "       width=\"24px\">\n",
              "    <path d=\"M0 0h24v24H0V0z\" fill=\"none\"/>\n",
              "    <path d=\"M18.56 5.44l.94 2.06.94-2.06 2.06-.94-2.06-.94-.94-2.06-.94 2.06-2.06.94zm-11 1L8.5 8.5l.94-2.06 2.06-.94-2.06-.94L8.5 2.5l-.94 2.06-2.06.94zm10 10l.94 2.06.94-2.06 2.06-.94-2.06-.94-.94-2.06-.94 2.06-2.06.94z\"/><path d=\"M17.41 7.96l-1.37-1.37c-.4-.4-.92-.59-1.43-.59-.52 0-1.04.2-1.43.59L10.3 9.45l-7.72 7.72c-.78.78-.78 2.05 0 2.83L4 21.41c.39.39.9.59 1.41.59.51 0 1.02-.2 1.41-.59l7.78-7.78 2.81-2.81c.8-.78.8-2.07 0-2.86zM5.41 20L4 18.59l7.72-7.72 1.47 1.35L5.41 20z\"/>\n",
              "  </svg>\n",
              "      </button>\n",
              "      \n",
              "  <style>\n",
              "    .colab-df-container {\n",
              "      display:flex;\n",
              "      flex-wrap:wrap;\n",
              "      gap: 12px;\n",
              "    }\n",
              "\n",
              "    .colab-df-convert {\n",
              "      background-color: #E8F0FE;\n",
              "      border: none;\n",
              "      border-radius: 50%;\n",
              "      cursor: pointer;\n",
              "      display: none;\n",
              "      fill: #1967D2;\n",
              "      height: 32px;\n",
              "      padding: 0 0 0 0;\n",
              "      width: 32px;\n",
              "    }\n",
              "\n",
              "    .colab-df-convert:hover {\n",
              "      background-color: #E2EBFA;\n",
              "      box-shadow: 0px 1px 2px rgba(60, 64, 67, 0.3), 0px 1px 3px 1px rgba(60, 64, 67, 0.15);\n",
              "      fill: #174EA6;\n",
              "    }\n",
              "\n",
              "    [theme=dark] .colab-df-convert {\n",
              "      background-color: #3B4455;\n",
              "      fill: #D2E3FC;\n",
              "    }\n",
              "\n",
              "    [theme=dark] .colab-df-convert:hover {\n",
              "      background-color: #434B5C;\n",
              "      box-shadow: 0px 1px 3px 1px rgba(0, 0, 0, 0.15);\n",
              "      filter: drop-shadow(0px 1px 2px rgba(0, 0, 0, 0.3));\n",
              "      fill: #FFFFFF;\n",
              "    }\n",
              "  </style>\n",
              "\n",
              "      <script>\n",
              "        const buttonEl =\n",
              "          document.querySelector('#df-50a3dc32-5134-4ff9-a346-ce837b13948a button.colab-df-convert');\n",
              "        buttonEl.style.display =\n",
              "          google.colab.kernel.accessAllowed ? 'block' : 'none';\n",
              "\n",
              "        async function convertToInteractive(key) {\n",
              "          const element = document.querySelector('#df-50a3dc32-5134-4ff9-a346-ce837b13948a');\n",
              "          const dataTable =\n",
              "            await google.colab.kernel.invokeFunction('convertToInteractive',\n",
              "                                                     [key], {});\n",
              "          if (!dataTable) return;\n",
              "\n",
              "          const docLinkHtml = 'Like what you see? Visit the ' +\n",
              "            '<a target=\"_blank\" href=https://colab.research.google.com/notebooks/data_table.ipynb>data table notebook</a>'\n",
              "            + ' to learn more about interactive tables.';\n",
              "          element.innerHTML = '';\n",
              "          dataTable['output_type'] = 'display_data';\n",
              "          await google.colab.output.renderOutput(dataTable, element);\n",
              "          const docLink = document.createElement('div');\n",
              "          docLink.innerHTML = docLinkHtml;\n",
              "          element.appendChild(docLink);\n",
              "        }\n",
              "      </script>\n",
              "    </div>\n",
              "  </div>\n",
              "  "
            ]
          },
          "metadata": {},
          "execution_count": 7
        }
      ]
    },
    {
      "cell_type": "markdown",
      "metadata": {
        "id": "G6dnsNYm-41g"
      },
      "source": [
        "## Informações Estatísticas da Violência no Rio de Janeiro\n",
        "\n"
      ]
    },
    {
      "cell_type": "code",
      "source": [
        "df.describe()"
      ],
      "metadata": {
        "colab": {
          "base_uri": "https://localhost:8080/",
          "height": 394
        },
        "id": "2HMCvP21zpGT",
        "outputId": "c279d8c7-9d2b-44ca-8da7-8fd80fedc442"
      },
      "execution_count": null,
      "outputs": [
        {
          "output_type": "execute_result",
          "data": {
            "text/plain": [
              "              vano         mes  hom_doloso  lesao_corp_morte  latrocinio  \\\n",
              "count   236.000000  236.000000  236.000000        236.000000  236.000000   \n",
              "mean   2009.338983    6.432203  457.847458          4.110169   15.470339   \n",
              "std       5.691682    3.445574   88.401225          2.422532    5.541638   \n",
              "min    2000.000000    1.000000  272.000000          0.000000    5.000000   \n",
              "25%    2004.000000    3.000000  381.750000          2.000000   11.000000   \n",
              "50%    2009.000000    6.000000  462.500000          4.000000   15.000000   \n",
              "75%    2014.000000    9.000000  527.250000          6.000000   19.000000   \n",
              "max    2019.000000   12.000000  682.000000         12.000000   31.000000   \n",
              "\n",
              "       hom_por_interv_policial  tentat_hom  lesao_corp_dolosa     estupro  \\\n",
              "count               236.000000  236.000000         236.000000  200.000000   \n",
              "mean                 76.483051  383.851695        6342.855932  369.945000   \n",
              "std                  35.091790   97.783865         866.303772   94.392434   \n",
              "min                  15.000000  186.000000        2521.000000  188.000000   \n",
              "25%                  48.750000  315.750000        5709.500000  282.000000   \n",
              "50%                  74.000000  362.500000        6324.500000  384.000000   \n",
              "75%                 100.250000  458.500000        6887.000000  441.250000   \n",
              "max                 194.000000  645.000000        9050.000000  561.000000   \n",
              "\n",
              "       hom_culposo  ...  pessoas_desaparecidas  encontro_cadaver  \\\n",
              "count   236.000000  ...             212.000000        236.000000   \n",
              "mean    199.449153  ...             435.132075         62.262712   \n",
              "std      36.092575  ...              65.353516         32.448435   \n",
              "min     111.000000  ...             236.000000         16.000000   \n",
              "25%     174.750000  ...             390.000000         39.000000   \n",
              "50%     196.000000  ...             427.000000         50.000000   \n",
              "75%     225.250000  ...             481.500000         81.250000   \n",
              "max     299.000000  ...             628.000000        186.000000   \n",
              "\n",
              "       encontro_ossada  pol_militares_mortos_serv  pol_civis_mortos_serv  \\\n",
              "count       212.000000                 200.000000              200.00000   \n",
              "mean          3.301887                   2.085000                0.34000   \n",
              "std           2.192922                   1.761616                0.63752   \n",
              "min           0.000000                   0.000000                0.00000   \n",
              "25%           2.000000                   1.000000                0.00000   \n",
              "50%           3.000000                   2.000000                0.00000   \n",
              "75%           4.000000                   3.000000                1.00000   \n",
              "max          13.000000                  10.000000                3.00000   \n",
              "\n",
              "       indicador_letalidade  indicador_roubo_rua  indicador_roubo_veic  \\\n",
              "count            236.000000           236.000000            236.000000   \n",
              "mean             553.911017          6248.508475           2696.330508   \n",
              "std              103.351314          2762.927900            803.812342   \n",
              "min              334.000000          1911.000000           1413.000000   \n",
              "25%              477.000000          3492.250000           2225.500000   \n",
              "50%              564.500000          5946.500000           2555.500000   \n",
              "75%              627.000000          7734.500000           3056.000000   \n",
              "max              804.000000         13833.000000           5358.000000   \n",
              "\n",
              "       registro_ocorrencias        fase  \n",
              "count            236.000000  236.000000  \n",
              "mean           54847.936441    2.991525  \n",
              "std            10245.738491    0.091861  \n",
              "min            31231.000000    2.000000  \n",
              "25%            46532.750000    3.000000  \n",
              "50%            55252.000000    3.000000  \n",
              "75%            63817.250000    3.000000  \n",
              "max            75403.000000    3.000000  \n",
              "\n",
              "[8 rows x 56 columns]"
            ],
            "text/html": [
              "\n",
              "  <div id=\"df-2151285b-f8b9-425a-be11-de13f61cdabd\">\n",
              "    <div class=\"colab-df-container\">\n",
              "      <div>\n",
              "<style scoped>\n",
              "    .dataframe tbody tr th:only-of-type {\n",
              "        vertical-align: middle;\n",
              "    }\n",
              "\n",
              "    .dataframe tbody tr th {\n",
              "        vertical-align: top;\n",
              "    }\n",
              "\n",
              "    .dataframe thead th {\n",
              "        text-align: right;\n",
              "    }\n",
              "</style>\n",
              "<table border=\"1\" class=\"dataframe\">\n",
              "  <thead>\n",
              "    <tr style=\"text-align: right;\">\n",
              "      <th></th>\n",
              "      <th>vano</th>\n",
              "      <th>mes</th>\n",
              "      <th>hom_doloso</th>\n",
              "      <th>lesao_corp_morte</th>\n",
              "      <th>latrocinio</th>\n",
              "      <th>hom_por_interv_policial</th>\n",
              "      <th>tentat_hom</th>\n",
              "      <th>lesao_corp_dolosa</th>\n",
              "      <th>estupro</th>\n",
              "      <th>hom_culposo</th>\n",
              "      <th>...</th>\n",
              "      <th>pessoas_desaparecidas</th>\n",
              "      <th>encontro_cadaver</th>\n",
              "      <th>encontro_ossada</th>\n",
              "      <th>pol_militares_mortos_serv</th>\n",
              "      <th>pol_civis_mortos_serv</th>\n",
              "      <th>indicador_letalidade</th>\n",
              "      <th>indicador_roubo_rua</th>\n",
              "      <th>indicador_roubo_veic</th>\n",
              "      <th>registro_ocorrencias</th>\n",
              "      <th>fase</th>\n",
              "    </tr>\n",
              "  </thead>\n",
              "  <tbody>\n",
              "    <tr>\n",
              "      <th>count</th>\n",
              "      <td>236.000000</td>\n",
              "      <td>236.000000</td>\n",
              "      <td>236.000000</td>\n",
              "      <td>236.000000</td>\n",
              "      <td>236.000000</td>\n",
              "      <td>236.000000</td>\n",
              "      <td>236.000000</td>\n",
              "      <td>236.000000</td>\n",
              "      <td>200.000000</td>\n",
              "      <td>236.000000</td>\n",
              "      <td>...</td>\n",
              "      <td>212.000000</td>\n",
              "      <td>236.000000</td>\n",
              "      <td>212.000000</td>\n",
              "      <td>200.000000</td>\n",
              "      <td>200.00000</td>\n",
              "      <td>236.000000</td>\n",
              "      <td>236.000000</td>\n",
              "      <td>236.000000</td>\n",
              "      <td>236.000000</td>\n",
              "      <td>236.000000</td>\n",
              "    </tr>\n",
              "    <tr>\n",
              "      <th>mean</th>\n",
              "      <td>2009.338983</td>\n",
              "      <td>6.432203</td>\n",
              "      <td>457.847458</td>\n",
              "      <td>4.110169</td>\n",
              "      <td>15.470339</td>\n",
              "      <td>76.483051</td>\n",
              "      <td>383.851695</td>\n",
              "      <td>6342.855932</td>\n",
              "      <td>369.945000</td>\n",
              "      <td>199.449153</td>\n",
              "      <td>...</td>\n",
              "      <td>435.132075</td>\n",
              "      <td>62.262712</td>\n",
              "      <td>3.301887</td>\n",
              "      <td>2.085000</td>\n",
              "      <td>0.34000</td>\n",
              "      <td>553.911017</td>\n",
              "      <td>6248.508475</td>\n",
              "      <td>2696.330508</td>\n",
              "      <td>54847.936441</td>\n",
              "      <td>2.991525</td>\n",
              "    </tr>\n",
              "    <tr>\n",
              "      <th>std</th>\n",
              "      <td>5.691682</td>\n",
              "      <td>3.445574</td>\n",
              "      <td>88.401225</td>\n",
              "      <td>2.422532</td>\n",
              "      <td>5.541638</td>\n",
              "      <td>35.091790</td>\n",
              "      <td>97.783865</td>\n",
              "      <td>866.303772</td>\n",
              "      <td>94.392434</td>\n",
              "      <td>36.092575</td>\n",
              "      <td>...</td>\n",
              "      <td>65.353516</td>\n",
              "      <td>32.448435</td>\n",
              "      <td>2.192922</td>\n",
              "      <td>1.761616</td>\n",
              "      <td>0.63752</td>\n",
              "      <td>103.351314</td>\n",
              "      <td>2762.927900</td>\n",
              "      <td>803.812342</td>\n",
              "      <td>10245.738491</td>\n",
              "      <td>0.091861</td>\n",
              "    </tr>\n",
              "    <tr>\n",
              "      <th>min</th>\n",
              "      <td>2000.000000</td>\n",
              "      <td>1.000000</td>\n",
              "      <td>272.000000</td>\n",
              "      <td>0.000000</td>\n",
              "      <td>5.000000</td>\n",
              "      <td>15.000000</td>\n",
              "      <td>186.000000</td>\n",
              "      <td>2521.000000</td>\n",
              "      <td>188.000000</td>\n",
              "      <td>111.000000</td>\n",
              "      <td>...</td>\n",
              "      <td>236.000000</td>\n",
              "      <td>16.000000</td>\n",
              "      <td>0.000000</td>\n",
              "      <td>0.000000</td>\n",
              "      <td>0.00000</td>\n",
              "      <td>334.000000</td>\n",
              "      <td>1911.000000</td>\n",
              "      <td>1413.000000</td>\n",
              "      <td>31231.000000</td>\n",
              "      <td>2.000000</td>\n",
              "    </tr>\n",
              "    <tr>\n",
              "      <th>25%</th>\n",
              "      <td>2004.000000</td>\n",
              "      <td>3.000000</td>\n",
              "      <td>381.750000</td>\n",
              "      <td>2.000000</td>\n",
              "      <td>11.000000</td>\n",
              "      <td>48.750000</td>\n",
              "      <td>315.750000</td>\n",
              "      <td>5709.500000</td>\n",
              "      <td>282.000000</td>\n",
              "      <td>174.750000</td>\n",
              "      <td>...</td>\n",
              "      <td>390.000000</td>\n",
              "      <td>39.000000</td>\n",
              "      <td>2.000000</td>\n",
              "      <td>1.000000</td>\n",
              "      <td>0.00000</td>\n",
              "      <td>477.000000</td>\n",
              "      <td>3492.250000</td>\n",
              "      <td>2225.500000</td>\n",
              "      <td>46532.750000</td>\n",
              "      <td>3.000000</td>\n",
              "    </tr>\n",
              "    <tr>\n",
              "      <th>50%</th>\n",
              "      <td>2009.000000</td>\n",
              "      <td>6.000000</td>\n",
              "      <td>462.500000</td>\n",
              "      <td>4.000000</td>\n",
              "      <td>15.000000</td>\n",
              "      <td>74.000000</td>\n",
              "      <td>362.500000</td>\n",
              "      <td>6324.500000</td>\n",
              "      <td>384.000000</td>\n",
              "      <td>196.000000</td>\n",
              "      <td>...</td>\n",
              "      <td>427.000000</td>\n",
              "      <td>50.000000</td>\n",
              "      <td>3.000000</td>\n",
              "      <td>2.000000</td>\n",
              "      <td>0.00000</td>\n",
              "      <td>564.500000</td>\n",
              "      <td>5946.500000</td>\n",
              "      <td>2555.500000</td>\n",
              "      <td>55252.000000</td>\n",
              "      <td>3.000000</td>\n",
              "    </tr>\n",
              "    <tr>\n",
              "      <th>75%</th>\n",
              "      <td>2014.000000</td>\n",
              "      <td>9.000000</td>\n",
              "      <td>527.250000</td>\n",
              "      <td>6.000000</td>\n",
              "      <td>19.000000</td>\n",
              "      <td>100.250000</td>\n",
              "      <td>458.500000</td>\n",
              "      <td>6887.000000</td>\n",
              "      <td>441.250000</td>\n",
              "      <td>225.250000</td>\n",
              "      <td>...</td>\n",
              "      <td>481.500000</td>\n",
              "      <td>81.250000</td>\n",
              "      <td>4.000000</td>\n",
              "      <td>3.000000</td>\n",
              "      <td>1.00000</td>\n",
              "      <td>627.000000</td>\n",
              "      <td>7734.500000</td>\n",
              "      <td>3056.000000</td>\n",
              "      <td>63817.250000</td>\n",
              "      <td>3.000000</td>\n",
              "    </tr>\n",
              "    <tr>\n",
              "      <th>max</th>\n",
              "      <td>2019.000000</td>\n",
              "      <td>12.000000</td>\n",
              "      <td>682.000000</td>\n",
              "      <td>12.000000</td>\n",
              "      <td>31.000000</td>\n",
              "      <td>194.000000</td>\n",
              "      <td>645.000000</td>\n",
              "      <td>9050.000000</td>\n",
              "      <td>561.000000</td>\n",
              "      <td>299.000000</td>\n",
              "      <td>...</td>\n",
              "      <td>628.000000</td>\n",
              "      <td>186.000000</td>\n",
              "      <td>13.000000</td>\n",
              "      <td>10.000000</td>\n",
              "      <td>3.00000</td>\n",
              "      <td>804.000000</td>\n",
              "      <td>13833.000000</td>\n",
              "      <td>5358.000000</td>\n",
              "      <td>75403.000000</td>\n",
              "      <td>3.000000</td>\n",
              "    </tr>\n",
              "  </tbody>\n",
              "</table>\n",
              "<p>8 rows × 56 columns</p>\n",
              "</div>\n",
              "      <button class=\"colab-df-convert\" onclick=\"convertToInteractive('df-2151285b-f8b9-425a-be11-de13f61cdabd')\"\n",
              "              title=\"Convert this dataframe to an interactive table.\"\n",
              "              style=\"display:none;\">\n",
              "        \n",
              "  <svg xmlns=\"http://www.w3.org/2000/svg\" height=\"24px\"viewBox=\"0 0 24 24\"\n",
              "       width=\"24px\">\n",
              "    <path d=\"M0 0h24v24H0V0z\" fill=\"none\"/>\n",
              "    <path d=\"M18.56 5.44l.94 2.06.94-2.06 2.06-.94-2.06-.94-.94-2.06-.94 2.06-2.06.94zm-11 1L8.5 8.5l.94-2.06 2.06-.94-2.06-.94L8.5 2.5l-.94 2.06-2.06.94zm10 10l.94 2.06.94-2.06 2.06-.94-2.06-.94-.94-2.06-.94 2.06-2.06.94z\"/><path d=\"M17.41 7.96l-1.37-1.37c-.4-.4-.92-.59-1.43-.59-.52 0-1.04.2-1.43.59L10.3 9.45l-7.72 7.72c-.78.78-.78 2.05 0 2.83L4 21.41c.39.39.9.59 1.41.59.51 0 1.02-.2 1.41-.59l7.78-7.78 2.81-2.81c.8-.78.8-2.07 0-2.86zM5.41 20L4 18.59l7.72-7.72 1.47 1.35L5.41 20z\"/>\n",
              "  </svg>\n",
              "      </button>\n",
              "      \n",
              "  <style>\n",
              "    .colab-df-container {\n",
              "      display:flex;\n",
              "      flex-wrap:wrap;\n",
              "      gap: 12px;\n",
              "    }\n",
              "\n",
              "    .colab-df-convert {\n",
              "      background-color: #E8F0FE;\n",
              "      border: none;\n",
              "      border-radius: 50%;\n",
              "      cursor: pointer;\n",
              "      display: none;\n",
              "      fill: #1967D2;\n",
              "      height: 32px;\n",
              "      padding: 0 0 0 0;\n",
              "      width: 32px;\n",
              "    }\n",
              "\n",
              "    .colab-df-convert:hover {\n",
              "      background-color: #E2EBFA;\n",
              "      box-shadow: 0px 1px 2px rgba(60, 64, 67, 0.3), 0px 1px 3px 1px rgba(60, 64, 67, 0.15);\n",
              "      fill: #174EA6;\n",
              "    }\n",
              "\n",
              "    [theme=dark] .colab-df-convert {\n",
              "      background-color: #3B4455;\n",
              "      fill: #D2E3FC;\n",
              "    }\n",
              "\n",
              "    [theme=dark] .colab-df-convert:hover {\n",
              "      background-color: #434B5C;\n",
              "      box-shadow: 0px 1px 3px 1px rgba(0, 0, 0, 0.15);\n",
              "      filter: drop-shadow(0px 1px 2px rgba(0, 0, 0, 0.3));\n",
              "      fill: #FFFFFF;\n",
              "    }\n",
              "  </style>\n",
              "\n",
              "      <script>\n",
              "        const buttonEl =\n",
              "          document.querySelector('#df-2151285b-f8b9-425a-be11-de13f61cdabd button.colab-df-convert');\n",
              "        buttonEl.style.display =\n",
              "          google.colab.kernel.accessAllowed ? 'block' : 'none';\n",
              "\n",
              "        async function convertToInteractive(key) {\n",
              "          const element = document.querySelector('#df-2151285b-f8b9-425a-be11-de13f61cdabd');\n",
              "          const dataTable =\n",
              "            await google.colab.kernel.invokeFunction('convertToInteractive',\n",
              "                                                     [key], {});\n",
              "          if (!dataTable) return;\n",
              "\n",
              "          const docLinkHtml = 'Like what you see? Visit the ' +\n",
              "            '<a target=\"_blank\" href=https://colab.research.google.com/notebooks/data_table.ipynb>data table notebook</a>'\n",
              "            + ' to learn more about interactive tables.';\n",
              "          element.innerHTML = '';\n",
              "          dataTable['output_type'] = 'display_data';\n",
              "          await google.colab.output.renderOutput(dataTable, element);\n",
              "          const docLink = document.createElement('div');\n",
              "          docLink.innerHTML = docLinkHtml;\n",
              "          element.appendChild(docLink);\n",
              "        }\n",
              "      </script>\n",
              "    </div>\n",
              "  </div>\n",
              "  "
            ]
          },
          "metadata": {},
          "execution_count": 23
        }
      ]
    },
    {
      "cell_type": "code",
      "source": [
        "df['total_roubos'].describe()"
      ],
      "metadata": {
        "colab": {
          "base_uri": "https://localhost:8080/"
        },
        "id": "iDSjAmPQ9r_n",
        "outputId": "28a2d0a2-cabe-4971-a231-e2586bbecd1c"
      },
      "execution_count": null,
      "outputs": [
        {
          "output_type": "execute_result",
          "data": {
            "text/plain": [
              "count      236.000000\n",
              "mean     11674.788136\n",
              "std       3756.906040\n",
              "min       6283.000000\n",
              "25%       9135.750000\n",
              "50%      10413.500000\n",
              "75%      12602.000000\n",
              "max      23203.000000\n",
              "Name: total_roubos, dtype: float64"
            ]
          },
          "metadata": {},
          "execution_count": 61
        }
      ]
    },
    {
      "cell_type": "markdown",
      "source": [
        "Durante o periodo analisado houve um max de 23203 roubos, e a média  foi de 11674 roubos"
      ],
      "metadata": {
        "id": "LyHnyuqG9-Fe"
      }
    },
    {
      "cell_type": "code",
      "source": [
        "df['total_furtos'].describe()"
      ],
      "metadata": {
        "colab": {
          "base_uri": "https://localhost:8080/"
        },
        "id": "WdWa6mZQ93Uq",
        "outputId": "634a1e94-0201-46c7-d049-f1b2ae0a9646"
      },
      "execution_count": null,
      "outputs": [
        {
          "output_type": "execute_result",
          "data": {
            "text/plain": [
              "count      236.000000\n",
              "mean     12431.110169\n",
              "std       2636.742061\n",
              "min       5795.000000\n",
              "25%      10328.250000\n",
              "50%      13153.000000\n",
              "75%      14328.750000\n",
              "max      18003.000000\n",
              "Name: total_furtos, dtype: float64"
            ]
          },
          "metadata": {},
          "execution_count": 62
        }
      ]
    },
    {
      "cell_type": "markdown",
      "source": [
        "Durante o periodo analisado houve um max de 18803 furtos, e a média  foi de 12431 roubos"
      ],
      "metadata": {
        "id": "1SoN-M7CAvTB"
      }
    },
    {
      "cell_type": "markdown",
      "source": [
        "**Analisando furtos e roubos de veiculos**"
      ],
      "metadata": {
        "id": "rfpFrywQBFVL"
      }
    },
    {
      "cell_type": "code",
      "source": [
        "roubo_media=df['roubo_veiculo'].mean()\n",
        "print('A media de roubo de veiculos é de {} veiculos por mês'.format(round(roubo_media,2)))"
      ],
      "metadata": {
        "colab": {
          "base_uri": "https://localhost:8080/"
        },
        "id": "c87OTjTR0G1H",
        "outputId": "34448d8c-daab-483f-8f35-e04f7c05efa0"
      },
      "execution_count": null,
      "outputs": [
        {
          "output_type": "stream",
          "name": "stdout",
          "text": [
            "A media de roubo de veiculos é de 2696.33 por mês\n"
          ]
        }
      ]
    },
    {
      "cell_type": "code",
      "source": [
        "furto_media=df['furto_veiculos'].mean()\n",
        "print('A media de furtos de veiculos é de {} veiculos por mês'.format(round(furto_media,2)))"
      ],
      "metadata": {
        "colab": {
          "base_uri": "https://localhost:8080/"
        },
        "id": "ddcGl-dq1bYb",
        "outputId": "86098853-fce7-48f9-f8a4-c4fd846750bb"
      },
      "execution_count": null,
      "outputs": [
        {
          "output_type": "stream",
          "name": "stdout",
          "text": [
            "A media de furtos de veiculos é de 1549.33 veiculos por mês\n"
          ]
        }
      ]
    },
    {
      "cell_type": "markdown",
      "source": [
        "**Análise de homicidio dolosos**"
      ],
      "metadata": {
        "id": "EGtSPcuVBlor"
      }
    },
    {
      "cell_type": "code",
      "source": [
        "df['hom_doloso'].describe()"
      ],
      "metadata": {
        "colab": {
          "base_uri": "https://localhost:8080/"
        },
        "id": "lHId9p4t1_qF",
        "outputId": "ad95ea1c-4b3e-4062-830e-69d07af402a1"
      },
      "execution_count": null,
      "outputs": [
        {
          "output_type": "execute_result",
          "data": {
            "text/plain": [
              "count    236.000000\n",
              "mean     457.847458\n",
              "std       88.401225\n",
              "min      272.000000\n",
              "25%      381.750000\n",
              "50%      462.500000\n",
              "75%      527.250000\n",
              "max      682.000000\n",
              "Name: hom_doloso, dtype: float64"
            ]
          },
          "metadata": {},
          "execution_count": 37
        }
      ]
    },
    {
      "cell_type": "markdown",
      "source": [
        "Ja de crimes contra a vida, pode se observar que no dataset analisado houve uma media de 457 homicidios durante o periodo analisado, sendo que o menor numero d registrados foi de 272 homicidios e o maior numer de 682 homicidios "
      ],
      "metadata": {
        "id": "uFHwqZ5D2Opo"
      }
    },
    {
      "cell_type": "code",
      "source": [
        "##verificando o menor mes e ano em relação a homicidio doloso\n",
        "df[df['hom_doloso'] == 272]"
      ],
      "metadata": {
        "colab": {
          "base_uri": "https://localhost:8080/",
          "height": 174
        },
        "id": "vZ72G-v73BqI",
        "outputId": "83a3727b-b779-41bb-a5f1-aa271a130ae4"
      },
      "execution_count": null,
      "outputs": [
        {
          "output_type": "execute_result",
          "data": {
            "text/plain": [
              "     vano  mes  hom_doloso  lesao_corp_morte  latrocinio  \\\n",
              "293  2015    6         272               2.0          16   \n",
              "\n",
              "     hom_por_interv_policial  tentat_hom  lesao_corp_dolosa  estupro  \\\n",
              "293                     44.0         477               5535    389.0   \n",
              "\n",
              "     hom_culposo  ...  pessoas_desaparecidas  encontro_cadaver  \\\n",
              "293        140.0  ...                  493.0                52   \n",
              "\n",
              "     encontro_ossada  pol_militares_mortos_serv  pol_civis_mortos_serv  \\\n",
              "293              4.0                        1.0                    1.0   \n",
              "\n",
              "     indicador_letalidade  indicador_roubo_rua  indicador_roubo_veic  \\\n",
              "293                   334                 5936                  2254   \n",
              "\n",
              "     registro_ocorrencias  fase  \n",
              "293               60357.0     3  \n",
              "\n",
              "[1 rows x 56 columns]"
            ],
            "text/html": [
              "\n",
              "  <div id=\"df-7e7ad677-bcbc-43cb-9770-0e1b16374dbe\">\n",
              "    <div class=\"colab-df-container\">\n",
              "      <div>\n",
              "<style scoped>\n",
              "    .dataframe tbody tr th:only-of-type {\n",
              "        vertical-align: middle;\n",
              "    }\n",
              "\n",
              "    .dataframe tbody tr th {\n",
              "        vertical-align: top;\n",
              "    }\n",
              "\n",
              "    .dataframe thead th {\n",
              "        text-align: right;\n",
              "    }\n",
              "</style>\n",
              "<table border=\"1\" class=\"dataframe\">\n",
              "  <thead>\n",
              "    <tr style=\"text-align: right;\">\n",
              "      <th></th>\n",
              "      <th>vano</th>\n",
              "      <th>mes</th>\n",
              "      <th>hom_doloso</th>\n",
              "      <th>lesao_corp_morte</th>\n",
              "      <th>latrocinio</th>\n",
              "      <th>hom_por_interv_policial</th>\n",
              "      <th>tentat_hom</th>\n",
              "      <th>lesao_corp_dolosa</th>\n",
              "      <th>estupro</th>\n",
              "      <th>hom_culposo</th>\n",
              "      <th>...</th>\n",
              "      <th>pessoas_desaparecidas</th>\n",
              "      <th>encontro_cadaver</th>\n",
              "      <th>encontro_ossada</th>\n",
              "      <th>pol_militares_mortos_serv</th>\n",
              "      <th>pol_civis_mortos_serv</th>\n",
              "      <th>indicador_letalidade</th>\n",
              "      <th>indicador_roubo_rua</th>\n",
              "      <th>indicador_roubo_veic</th>\n",
              "      <th>registro_ocorrencias</th>\n",
              "      <th>fase</th>\n",
              "    </tr>\n",
              "  </thead>\n",
              "  <tbody>\n",
              "    <tr>\n",
              "      <th>293</th>\n",
              "      <td>2015</td>\n",
              "      <td>6</td>\n",
              "      <td>272</td>\n",
              "      <td>2.0</td>\n",
              "      <td>16</td>\n",
              "      <td>44.0</td>\n",
              "      <td>477</td>\n",
              "      <td>5535</td>\n",
              "      <td>389.0</td>\n",
              "      <td>140.0</td>\n",
              "      <td>...</td>\n",
              "      <td>493.0</td>\n",
              "      <td>52</td>\n",
              "      <td>4.0</td>\n",
              "      <td>1.0</td>\n",
              "      <td>1.0</td>\n",
              "      <td>334</td>\n",
              "      <td>5936</td>\n",
              "      <td>2254</td>\n",
              "      <td>60357.0</td>\n",
              "      <td>3</td>\n",
              "    </tr>\n",
              "  </tbody>\n",
              "</table>\n",
              "<p>1 rows × 56 columns</p>\n",
              "</div>\n",
              "      <button class=\"colab-df-convert\" onclick=\"convertToInteractive('df-7e7ad677-bcbc-43cb-9770-0e1b16374dbe')\"\n",
              "              title=\"Convert this dataframe to an interactive table.\"\n",
              "              style=\"display:none;\">\n",
              "        \n",
              "  <svg xmlns=\"http://www.w3.org/2000/svg\" height=\"24px\"viewBox=\"0 0 24 24\"\n",
              "       width=\"24px\">\n",
              "    <path d=\"M0 0h24v24H0V0z\" fill=\"none\"/>\n",
              "    <path d=\"M18.56 5.44l.94 2.06.94-2.06 2.06-.94-2.06-.94-.94-2.06-.94 2.06-2.06.94zm-11 1L8.5 8.5l.94-2.06 2.06-.94-2.06-.94L8.5 2.5l-.94 2.06-2.06.94zm10 10l.94 2.06.94-2.06 2.06-.94-2.06-.94-.94-2.06-.94 2.06-2.06.94z\"/><path d=\"M17.41 7.96l-1.37-1.37c-.4-.4-.92-.59-1.43-.59-.52 0-1.04.2-1.43.59L10.3 9.45l-7.72 7.72c-.78.78-.78 2.05 0 2.83L4 21.41c.39.39.9.59 1.41.59.51 0 1.02-.2 1.41-.59l7.78-7.78 2.81-2.81c.8-.78.8-2.07 0-2.86zM5.41 20L4 18.59l7.72-7.72 1.47 1.35L5.41 20z\"/>\n",
              "  </svg>\n",
              "      </button>\n",
              "      \n",
              "  <style>\n",
              "    .colab-df-container {\n",
              "      display:flex;\n",
              "      flex-wrap:wrap;\n",
              "      gap: 12px;\n",
              "    }\n",
              "\n",
              "    .colab-df-convert {\n",
              "      background-color: #E8F0FE;\n",
              "      border: none;\n",
              "      border-radius: 50%;\n",
              "      cursor: pointer;\n",
              "      display: none;\n",
              "      fill: #1967D2;\n",
              "      height: 32px;\n",
              "      padding: 0 0 0 0;\n",
              "      width: 32px;\n",
              "    }\n",
              "\n",
              "    .colab-df-convert:hover {\n",
              "      background-color: #E2EBFA;\n",
              "      box-shadow: 0px 1px 2px rgba(60, 64, 67, 0.3), 0px 1px 3px 1px rgba(60, 64, 67, 0.15);\n",
              "      fill: #174EA6;\n",
              "    }\n",
              "\n",
              "    [theme=dark] .colab-df-convert {\n",
              "      background-color: #3B4455;\n",
              "      fill: #D2E3FC;\n",
              "    }\n",
              "\n",
              "    [theme=dark] .colab-df-convert:hover {\n",
              "      background-color: #434B5C;\n",
              "      box-shadow: 0px 1px 3px 1px rgba(0, 0, 0, 0.15);\n",
              "      filter: drop-shadow(0px 1px 2px rgba(0, 0, 0, 0.3));\n",
              "      fill: #FFFFFF;\n",
              "    }\n",
              "  </style>\n",
              "\n",
              "      <script>\n",
              "        const buttonEl =\n",
              "          document.querySelector('#df-7e7ad677-bcbc-43cb-9770-0e1b16374dbe button.colab-df-convert');\n",
              "        buttonEl.style.display =\n",
              "          google.colab.kernel.accessAllowed ? 'block' : 'none';\n",
              "\n",
              "        async function convertToInteractive(key) {\n",
              "          const element = document.querySelector('#df-7e7ad677-bcbc-43cb-9770-0e1b16374dbe');\n",
              "          const dataTable =\n",
              "            await google.colab.kernel.invokeFunction('convertToInteractive',\n",
              "                                                     [key], {});\n",
              "          if (!dataTable) return;\n",
              "\n",
              "          const docLinkHtml = 'Like what you see? Visit the ' +\n",
              "            '<a target=\"_blank\" href=https://colab.research.google.com/notebooks/data_table.ipynb>data table notebook</a>'\n",
              "            + ' to learn more about interactive tables.';\n",
              "          element.innerHTML = '';\n",
              "          dataTable['output_type'] = 'display_data';\n",
              "          await google.colab.output.renderOutput(dataTable, element);\n",
              "          const docLink = document.createElement('div');\n",
              "          docLink.innerHTML = docLinkHtml;\n",
              "          element.appendChild(docLink);\n",
              "        }\n",
              "      </script>\n",
              "    </div>\n",
              "  </div>\n",
              "  "
            ]
          },
          "metadata": {},
          "execution_count": 38
        }
      ]
    },
    {
      "cell_type": "markdown",
      "source": [
        "Após essa analise pode se observar que esse numero de homicidios, ocorreu durante o ano de 2015 e o mês de junho"
      ],
      "metadata": {
        "id": "Bp3r6EoG3izd"
      }
    },
    {
      "cell_type": "code",
      "source": [
        "vida= df_tempo['hom_doloso']\n",
        "vida= vida.groupby('ano')\n",
        "vida.sum()"
      ],
      "metadata": {
        "colab": {
          "base_uri": "https://localhost:8080/"
        },
        "id": "XMugG2HG5e0J",
        "outputId": "84b588c7-e0eb-45eb-a129-b456960d897f"
      },
      "execution_count": null,
      "outputs": [
        {
          "output_type": "execute_result",
          "data": {
            "text/plain": [
              "ano\n",
              "2000    6287\n",
              "2001    6163\n",
              "2002    6885\n",
              "2003    6624\n",
              "2004    6438\n",
              "2005    6620\n",
              "2006    6323\n",
              "2007    6133\n",
              "2008    5717\n",
              "2009    5793\n",
              "2010    4767\n",
              "2011    4279\n",
              "2012    4081\n",
              "2013    4745\n",
              "2014    4942\n",
              "2015    4200\n",
              "2016    5042\n",
              "2017    5346\n",
              "2018    4950\n",
              "2019    2717\n",
              "Name: hom_doloso, dtype: int64"
            ]
          },
          "metadata": {},
          "execution_count": 121
        }
      ]
    },
    {
      "cell_type": "markdown",
      "source": [
        "A partir desta analise podemos notar que o ano com maior numero de mortes é 2002,e o ano com menor numero de homicidios é 2019.\n",
        "Também percebe-se que houve uma queda significativa dos homicidios durante o periodo analisado"
      ],
      "metadata": {
        "id": "gCVw8Owq8W2P"
      }
    },
    {
      "cell_type": "markdown",
      "metadata": {
        "id": "7WK0NBQZASKC"
      },
      "source": [
        "## Visualização de Dados\n",
        "\n",
        "\n"
      ]
    },
    {
      "cell_type": "code",
      "source": [
        "fig,axs = plt.subplots(figsize=(10, 5))\n",
        "sns.barplot(x=df['ano'],y=df['hom_doloso'])\n",
        "plt.title('Homicidio doloso por ano') "
      ],
      "metadata": {
        "colab": {
          "base_uri": "https://localhost:8080/",
          "height": 367
        },
        "id": "jGXVPZgZDwYD",
        "outputId": "c5234de4-af4c-4ba3-bf90-ca3ec98bde28"
      },
      "execution_count": 8,
      "outputs": [
        {
          "output_type": "execute_result",
          "data": {
            "text/plain": [
              "Text(0.5, 1.0, 'Homicidio doloso por ano')"
            ]
          },
          "metadata": {},
          "execution_count": 8
        },
        {
          "output_type": "display_data",
          "data": {
            "text/plain": [
              "<Figure size 720x360 with 1 Axes>"
            ],
            "image/png": "[encoded data removed]"
          },
          "metadata": {
            "needs_background": "light"
          }
        }
      ]
    },
    {
      "cell_type": "code",
      "source": [
        "g = sns.relplot(x=\"ano\", y=\"hom_doloso\", kind=\"line\", data=df)\n",
        "\n",
        "g.fig.autofmt_xdate()"
      ],
      "metadata": {
        "colab": {
          "base_uri": "https://localhost:8080/",
          "height": 355
        },
        "id": "x1_uGZO_4Ydv",
        "outputId": "c633e72b-f1c4-4afc-da81-1b0e1a69f519"
      },
      "execution_count": null,
      "outputs": [
        {
          "output_type": "display_data",
          "data": {
            "text/plain": [
              "<Figure size 360x360 with 1 Axes>"
            ],
            "image/png": "[encoded data removed]"
          },
          "metadata": {
            "needs_background": "light"
          }
        }
      ]
    },
    {
      "cell_type": "markdown",
      "source": [
        "A partir desta analise podemos notar que durante esta série histórica, houve uma queda significativa nos homicidios"
      ],
      "metadata": {
        "id": "amaxtCk0CH9j"
      }
    },
    {
      "cell_type": "code",
      "source": [
        "fig,axs = plt.subplots(figsize=(10, 5))\n",
        "sns.barplot(x=df['ano'],y=df['total_furtos'])\n",
        "plt.title('Ano e total de furtos ') "
      ],
      "metadata": {
        "colab": {
          "base_uri": "https://localhost:8080/",
          "height": 367
        },
        "id": "73VtabyeI-76",
        "outputId": "67a98032-00dc-4653-8bb4-60727436f6e5"
      },
      "execution_count": 9,
      "outputs": [
        {
          "output_type": "execute_result",
          "data": {
            "text/plain": [
              "Text(0.5, 1.0, 'Ano e total de furtos ')"
            ]
          },
          "metadata": {},
          "execution_count": 9
        },
        {
          "output_type": "display_data",
          "data": {
            "text/plain": [
              "<Figure size 720x360 with 1 Axes>"
            ],
            "image/png": "[encoded data removed]"
          },
          "metadata": {
            "needs_background": "light"
          }
        }
      ]
    },
    {
      "cell_type": "code",
      "source": [
        "g = sns.relplot(x=\"ano\", y=\"total_furtos\", kind=\"line\", data=df)\n",
        "\n",
        "g.fig.autofmt_xdate()"
      ],
      "metadata": {
        "colab": {
          "base_uri": "https://localhost:8080/",
          "height": 355
        },
        "id": "R90NGTbRCfUS",
        "outputId": "440d6ce5-be51-4c67-d422-e110cedfbce7"
      },
      "execution_count": null,
      "outputs": [
        {
          "output_type": "display_data",
          "data": {
            "text/plain": [
              "<Figure size 360x360 with 1 Axes>"
            ],
            "image/png": "[encoded data removed]"
          },
          "metadata": {
            "needs_background": "light"
          }
        }
      ]
    },
    {
      "cell_type": "markdown",
      "source": [
        "Ja no número de furtos ocorreu uma alta crescente até o ano de 2012, seguido por uma queda significativa "
      ],
      "metadata": {
        "id": "pZYmvN_0CzQB"
      }
    },
    {
      "cell_type": "code",
      "source": [
        "fig,axs = plt.subplots(figsize=(10, 5))\n",
        "sns.barplot(x=df['ano'],y=df['total_roubos'])\n",
        "plt.title('Produção de energia e direção do vento kw') "
      ],
      "metadata": {
        "colab": {
          "base_uri": "https://localhost:8080/",
          "height": 368
        },
        "id": "EHGQRJFlJGt7",
        "outputId": "b1b85aaa-9317-4359-e266-fd6f049f8ec7"
      },
      "execution_count": null,
      "outputs": [
        {
          "output_type": "execute_result",
          "data": {
            "text/plain": [
              "Text(0.5, 1.0, 'Produção de energia e direção do vento kw')"
            ]
          },
          "metadata": {},
          "execution_count": 100
        },
        {
          "output_type": "display_data",
          "data": {
            "text/plain": [
              "<Figure size 720x360 with 1 Axes>"
            ],
            "image/png": "[encoded data removed]"
          },
          "metadata": {
            "needs_background": "light"
          }
        }
      ]
    },
    {
      "cell_type": "code",
      "source": [
        "\n",
        "g = sns.relplot(x=\"ano\", y=\"total_roubos\", kind=\"line\", data=df)\n",
        "\n",
        "g.fig.autofmt_xdate()"
      ],
      "metadata": {
        "colab": {
          "base_uri": "https://localhost:8080/",
          "height": 355
        },
        "id": "Haxb78VxC_06",
        "outputId": "a3f294f5-1d34-4af3-f32e-a6f9916e5842"
      },
      "execution_count": null,
      "outputs": [
        {
          "output_type": "display_data",
          "data": {
            "text/plain": [
              "<Figure size 360x360 with 1 Axes>"
            ],
            "image/png": "[encoded data removed]"
          },
          "metadata": {
            "needs_background": "light"
          }
        }
      ]
    },
    {
      "cell_type": "markdown",
      "source": [
        "Os roubos durante esse periodo obtiveram uma alta suave durante os periodos de 2000 a 2012,com seu pico no ano de 2016, seguido por uma significativa queda a partir do ano de 2017"
      ],
      "metadata": {
        "id": "Orj2We7wDKIF"
      }
    },
    {
      "cell_type": "markdown",
      "metadata": {
        "id": "LCsiXvM3BcsO"
      },
      "source": [
        "## Conclusão\n",
        "\n",
        "Com esses dados e analises básicas, podemos notar que apesar de altos e baixos, a violência no rio de janeiro sempre foi uma constante. A analise de dados pode ser util neste sentido, pois pode ajudar gestores a tomarem melhores decisões sobre como empregar melhor os recursos publicos e diminuir esses números. Para o futuro, pode se empregar  um estudo através de técnicas de regressões e  séries temporais para prever casos de violência e roubo contra o patrimônio."
      ]
    }
  ]
}